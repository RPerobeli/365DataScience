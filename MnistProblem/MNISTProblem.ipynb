{
 "cells": [
  {
   "cell_type": "code",
   "execution_count": 1,
   "metadata": {},
   "outputs": [],
   "source": [
    "#import  relevant libraries\n",
    "import numpy as np\n",
    "import matplotlib.pyplot as plt\n",
    "import tensorflow as tf\n",
    "import tensorflow_datasets as tfds"
   ]
  },
  {
   "cell_type": "markdown",
   "metadata": {},
   "source": [
    "### Data"
   ]
  },
  {
   "cell_type": "code",
   "execution_count": 2,
   "metadata": {},
   "outputs": [
    {
     "name": "stderr",
     "output_type": "stream",
     "text": [
      "WARNING:absl:Warning: Setting shuffle_files=True because split=TRAIN and shuffle_files=None. This behavior will be deprecated on 2019-08-06, at which point shuffle_files=False will be the default for all splits.\n"
     ]
    }
   ],
   "source": [
    "#tfds.load(string name, boolean as_supervised): carrega um banco de dados do tfds,  as_supervised = True faz com que\n",
    "# os dados sejam importados como uma estrutura de 2 tuplas [input,target]\n",
    "mnist_dataset,mnist_info = tfds.load(name = 'mnist',with_info = True, as_supervised=True,)\n"
   ]
  },
  {
   "cell_type": "code",
   "execution_count": 3,
   "metadata": {},
   "outputs": [],
   "source": [
    "mnist_train, mnist_test = mnist_dataset['train'],mnist_dataset['test']\n",
    "\n",
    "num_validation_samples = 0.1*mnist_info.splits['train'].num_examples\n",
    "\n",
    "#tf.cast(object, data type): transforma um objeto em outro tipo de variável\n",
    "num_validation_samples = tf.cast(num_validation_samples,tf.int64)\n",
    "\n",
    "num_test_samples = mnist_info.splits['test'].num_examples\n",
    "num_test_samples = tf.cast(num_test_samples,tf.int64)\n",
    "\n",
    "'''\n",
    "função que tende a normalizar os valores da escala de cinza da imagem, transformando os 8bits (0 a 255) em valores de 0 a 1\n",
    "'''\n",
    "def scale(image,label):\n",
    "    image = tf.cast(image,tf.float32)\n",
    "    image /= 255.0\n",
    "    return image, label\n",
    "\n",
    "#dataset.map(função): aplica uma transformação em um devido dataset, utiliza como parametro a função que determina \n",
    "scaled_train_and_validation_data = mnist_train.map(scale)\n",
    "test_data = mnist_test.map(scale)\n",
    "\n",
    "#há a necessidade de embaralhar o banco de dados, uma vez que ele pode estar ordenado e isso confundiria a rede neural\n",
    "#além dsisso, o computador não aguentaria embaralhar todo o dataset de uma vez, então é necessário faze-lo em pedaços\n",
    "# que serão definidos pelo buffer_size\n",
    "BUFFER_SIZE = 10000\n",
    "shuffled_trained_and_validation_data = scaled_train_and_validation_data.shuffle(BUFFER_SIZE)\n",
    "\n",
    "#separando os dados de validação dos dados de treinamento\n",
    "#dataset.take(int n) retira de um montante, os primeiros n-objetos\n",
    "validation_data = shuffled_trained_and_validation_data.take(num_validation_samples)\n",
    "#dataset.skip(int n): ignora os primeiros n-objetos de um montante\n",
    "train_data = shuffled_trained_and_validation_data.skip(num_validation_samples)"
   ]
  },
  {
   "cell_type": "markdown",
   "metadata": {},
   "source": [
    "# BATCHING preparation "
   ]
  },
  {
   "cell_type": "code",
   "execution_count": 4,
   "metadata": {},
   "outputs": [],
   "source": [
    "BATCH_SIZE = 50\n",
    "#dataset.batch(int batch_size): método que combina elementos consecutivos de um dataset em batches\n",
    "train_data = train_data.batch(BATCH_SIZE)\n",
    "\n",
    "'''\n",
    "os dados de validação como serão usados apenas na fase de feed foward, não há necessidade que estejam separados em batches\n",
    "no entanto, o modelo espera que os dados de validação também estejam em formato de batch\n",
    "criação de um único batch com as validaçoes\n",
    "'''\n",
    "validation_data = validation_data.batch(num_validation_samples)\n",
    "test_data= test_data.batch(num_test_samples)\n",
    "\n",
    "'''os dados de validação precisam ser iguais aos dados mnist, que é um iterador em 2-tuple format, \n",
    "portanto é necessário extrair os dados de validação de forma correta'''\n",
    "#iter(arg): função que torna o argumento um iterável\n",
    "# next(): loads the next element of an iterable object\n",
    "validation_inputs, validation_targets = next(iter(validation_data))"
   ]
  },
  {
   "cell_type": "markdown",
   "metadata": {},
   "source": [
    "## Model"
   ]
  },
  {
   "cell_type": "code",
   "execution_count": 5,
   "metadata": {},
   "outputs": [],
   "source": [
    "input_size = 784\n",
    "output_size = 10\n",
    "hidden_layer_size = 100 #50\n",
    "\n",
    "#tf.keras.layers.Flatten(original shape): transforms a tensor into a vector\n",
    "model= tf.keras.Sequential([\n",
    "                            tf.keras.layers.Flatten(input_shape=(28,28,1)),\n",
    "                            tf.keras.layers.Dense(hidden_layer_size, activation='relu'),\n",
    "                            tf.keras.layers.Dense(hidden_layer_size, activation='relu'),\n",
    "                            tf.keras.layers.Dense(output_size, activation='softmax'),\n",
    "])"
   ]
  },
  {
   "cell_type": "markdown",
   "metadata": {},
   "source": [
    "### Choose the optimizer and the loss function"
   ]
  },
  {
   "cell_type": "code",
   "execution_count": 6,
   "metadata": {},
   "outputs": [],
   "source": [
    "#sparse_categorical_crossentropy é devido ao fato de que as saídas devem ser one-hot-encoding\n",
    "#caso contrario, seria categorical_crossentropy ou mesmo binary_crossentropy para casos boolean-encoding\n",
    "model.compile(optimizer='adam',loss ='sparse_categorical_crossentropy',metrics=['accuracy'])"
   ]
  },
  {
   "cell_type": "markdown",
   "metadata": {},
   "source": [
    "### Training"
   ]
  },
  {
   "cell_type": "code",
   "execution_count": 7,
   "metadata": {},
   "outputs": [
    {
     "name": "stdout",
     "output_type": "stream",
     "text": [
      "Epoch 1/10\n",
      "1080/1080 - 4s - loss: 0.2801 - accuracy: 0.9195 - val_loss: 0.1392 - val_accuracy: 0.9617\n",
      "Epoch 2/10\n",
      "1080/1080 - 3s - loss: 0.1168 - accuracy: 0.9651 - val_loss: 0.0954 - val_accuracy: 0.9732\n",
      "Epoch 3/10\n",
      "1080/1080 - 3s - loss: 0.0839 - accuracy: 0.9743 - val_loss: 0.0699 - val_accuracy: 0.9773\n",
      "Epoch 4/10\n",
      "1080/1080 - 3s - loss: 0.0659 - accuracy: 0.9795 - val_loss: 0.0651 - val_accuracy: 0.9792\n",
      "Epoch 5/10\n",
      "1080/1080 - 3s - loss: 0.0509 - accuracy: 0.9839 - val_loss: 0.0512 - val_accuracy: 0.9837\n",
      "Epoch 6/10\n",
      "1080/1080 - 3s - loss: 0.0428 - accuracy: 0.9868 - val_loss: 0.0421 - val_accuracy: 0.9848\n",
      "Epoch 7/10\n",
      "1080/1080 - 3s - loss: 0.0345 - accuracy: 0.9886 - val_loss: 0.0293 - val_accuracy: 0.9918\n",
      "Epoch 8/10\n",
      "1080/1080 - 3s - loss: 0.0299 - accuracy: 0.9904 - val_loss: 0.0315 - val_accuracy: 0.9900\n",
      "Epoch 9/10\n",
      "1080/1080 - 3s - loss: 0.0261 - accuracy: 0.9915 - val_loss: 0.0249 - val_accuracy: 0.9917\n",
      "Epoch 10/10\n",
      "1080/1080 - 3s - loss: 0.0236 - accuracy: 0.9920 - val_loss: 0.0263 - val_accuracy: 0.9922\n"
     ]
    },
    {
     "data": {
      "text/plain": [
       "<tensorflow.python.keras.callbacks.History at 0x233e3066248>"
      ]
     },
     "execution_count": 7,
     "metadata": {},
     "output_type": "execute_result"
    }
   ],
   "source": [
    "NUM_EPOCHS = 10\n",
    "\n",
    "model.fit(train_data, epochs = NUM_EPOCHS, validation_data=(validation_inputs, validation_targets), verbose=2,validation_steps=10)"
   ]
  },
  {
   "cell_type": "markdown",
   "metadata": {},
   "source": [
    "# Testing the model"
   ]
  },
  {
   "cell_type": "code",
   "execution_count": 8,
   "metadata": {},
   "outputs": [
    {
     "name": "stdout",
     "output_type": "stream",
     "text": [
      "      1/Unknown - 1s 519ms/step - loss: 0.0878 - accuracy: 0.978 - 1s 547ms/step - loss: 0.0878 - accuracy: 0.9780"
     ]
    }
   ],
   "source": [
    "#model.evaluate(test_data): retorna o valor do custo/loss e a acurácia do modelo para os dados de teste\n",
    "test_loss, test_accuracy = model.evaluate(test_data)"
   ]
  },
  {
   "cell_type": "code",
   "execution_count": 9,
   "metadata": {},
   "outputs": [
    {
     "name": "stdout",
     "output_type": "stream",
     "text": [
      "Test loss: 0.09. Test accuracy: 97.80%\n"
     ]
    }
   ],
   "source": [
    "print('Test loss: {0:.2f}. Test accuracy: {1:.2f}%'.format(test_loss,test_accuracy*100))"
   ]
  },
  {
   "cell_type": "code",
   "execution_count": 10,
   "metadata": {
    "scrolled": false
   },
   "outputs": [
    {
     "name": "stdout",
     "output_type": "stream",
     "text": [
      "valor que será mandado para ela: 4\n",
      "O valor que eu recebi foi um: 4\n"
     ]
    },
    {
     "data": {
      "image/png": "[encoded data removed]",
      "text/plain": [
       "<Figure size 432x288 with 1 Axes>"
      ]
     },
     "metadata": {
      "needs_background": "light"
     },
     "output_type": "display_data"
    }
   ],
   "source": [
    "#separação do dataset de teste, para imagens e para labels correspondentes\n",
    "test_images, test_targets = next(iter(test_data))\n",
    "ind = 1000\n",
    "print(\"valor que será mandado para ela: %d\" % test_targets[ind])\n",
    "plt.imshow(test_images[ind].numpy()[:, :, 0].astype(np.float32), cmap=plt.get_cmap(\"gray\"))\n",
    "\n",
    "y = model.predict(test_data)\n",
    "print(\"O valor que eu recebi foi um: %d\" % np.argmax(y[ind]))\n"
   ]
  },
  {
   "cell_type": "code",
   "execution_count": null,
   "metadata": {},
   "outputs": [],
   "source": []
  },
  {
   "cell_type": "code",
   "execution_count": null,
   "metadata": {},
   "outputs": [],
   "source": []
  },
  {
   "cell_type": "code",
   "execution_count": null,
   "metadata": {},
   "outputs": [],
   "source": []
  }
 ],
 "metadata": {
  "kernelspec": {
   "display_name": "Python 3",
   "language": "python",
   "name": "python3"
  },
  "language_info": {
   "codemirror_mode": {
    "name": "ipython",
    "version": 3
   },
   "file_extension": ".py",
   "mimetype": "text/x-python",
   "name": "python",
   "nbconvert_exporter": "python",
   "pygments_lexer": "ipython3",
   "version": "3.7.4"
  }
 },
 "nbformat": 4,
 "nbformat_minor": 2
}
