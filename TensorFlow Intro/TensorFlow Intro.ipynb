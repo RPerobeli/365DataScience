{
 "cells": [
  {
   "cell_type": "markdown",
   "metadata": {},
   "source": [
    "# TensorFlow Intro"
   ]
  },
  {
   "cell_type": "code",
   "execution_count": 1,
   "metadata": {},
   "outputs": [
    {
     "name": "stdout",
     "output_type": "stream",
     "text": [
      "WARNING:tensorflow:From C:\\Users\\T-Gamer\\Anaconda3\\lib\\site-packages\\tensorflow_core\\python\\compat\\v2_compat.py:88: disable_resource_variables (from tensorflow.python.ops.variable_scope) is deprecated and will be removed in a future version.\n",
      "Instructions for updating:\n",
      "non-resource variables are not supported in the long term\n"
     ]
    }
   ],
   "source": [
    "#import  relevant libraries\n",
    "import numpy as np\n",
    "import matplotlib.pyplot as plt\n",
    "#import tensorflow as tf\n",
    "import tensorflow.compat.v1 as tf\n",
    "tf.disable_v2_behavior() "
   ]
  },
  {
   "cell_type": "code",
   "execution_count": 2,
   "metadata": {},
   "outputs": [],
   "source": [
    "#Data generation\n",
    "\n",
    "#criação de dados falsos com relação linear\n",
    "#na vida real, pegam-se os dados de uma fonte externa\n",
    "observations = 1000 #tamanho da dataset que queremos criar\n",
    "\n",
    "#modelo linear de 2 variaveis f(x,z) = ax + bz + c\n",
    "#np.random.uniform(low,high,size), pega um valor randomico entre low e high onde cada numero tem uma chance igual de aparecer\n",
    "#size = (numero de observaçoes x numero de variaveis)\n",
    "xs = np.random.uniform(low=-10,high=10,size=(observations,1))\n",
    "zs = np.random.uniform(-10,10,(observations,1))\n",
    "\n",
    "#np.colunm_stack(appropriate tuples) pega uma sequencia de arrays de 1 dimensão  e cocatena em um array de 2 dimensões\n",
    "generated_inputs = np.column_stack((xs,zs))"
   ]
  },
  {
   "cell_type": "code",
   "execution_count": 3,
   "metadata": {},
   "outputs": [],
   "source": [
    "#create target we will aim on\n",
    "\n",
    "# targets = f(x,z) = 2*x - 3*z + 5 +ruído\n",
    "noise = np.random.uniform(-1,1,(observations,1))\n",
    "generated_targets = 2*xs - 3*zs + 5 + noise"
   ]
  },
  {
   "cell_type": "code",
   "execution_count": 4,
   "metadata": {},
   "outputs": [],
   "source": [
    "'''TensorFlow gosta de trabalhar com tensores(duuhr) para isso é interessante que os dados que irão ser apresentados sejam \n",
    "dados por um numPy file(.npz) que armazenam arrays n-dimensionais. '''\n",
    "#normalmente há um preprocessamento dos dados para que antes de treinar a rede os dados estejam em .npz\n",
    "\n",
    "#np.savez(file name, arrays)\n",
    "np.savez('TF_intro',inputs=generated_inputs,targets=generated_targets)"
   ]
  },
  {
   "cell_type": "markdown",
   "metadata": {},
   "source": [
    "# Solving with TensorFlow"
   ]
  },
  {
   "cell_type": "code",
   "execution_count": 5,
   "metadata": {},
   "outputs": [],
   "source": [
    "input_size =2\n",
    "output_size =1"
   ]
  },
  {
   "cell_type": "code",
   "execution_count": 6,
   "metadata": {},
   "outputs": [],
   "source": [
    "#começando com a criação de objetos to tf\n",
    "\n",
    "#placeholder, onde será alimentado com dados\n",
    "inputs =tf.placeholder(tf.float32,[None,input_size])\n",
    "targets=tf.placeholder(tf.float32,[None,output_size])\n",
    "'''float32 indica o tipo de dado que será utilizado\n",
    "O None indica que não há necessidade de explicitar as dimensões da matriz de inputs \n",
    "(não é necessario declarar o numero de observaçoes)'''\n",
    "\n",
    "#tf.Variable, usado para pesos e biases, mantém os seus valores, coisa que os placeholders não fazem\n",
    "weights = tf.Variable(tf.random.uniform([input_size,output_size],minval=-0.1,maxval=0.1))\n",
    "biases = tf.Variable(tf.random.uniform([output_size],minval=-0.1,maxval=0.1))\n",
    "\n",
    "#tf.matmul(A,B): multiplicação de matrizes A,B, como np.dot(A,B) só q pra tensores\n",
    "outputs = tf.matmul(inputs,weights)+biases"
   ]
  },
  {
   "cell_type": "markdown",
   "metadata": {},
   "source": [
    "# Choosing Loss function and optimization algorith"
   ]
  },
  {
   "cell_type": "code",
   "execution_count": 7,
   "metadata": {},
   "outputs": [],
   "source": [
    "#método que usa a L2 norm loss que é a função custo de erro quadratico minimo(mse)\n",
    "#tf.losses contem a maioria das funçoes custo\n",
    "#no aprendizado supervisionado, labels são os valores corretos e predictions são os outputs da rede\n",
    "mean_loss = tf.losses.mean_squared_error(labels=targets,predictions=outputs) / 2.0\n",
    "\n",
    "#tf.train cntém a maioria dos métodos otimizadores\n",
    "optimize = tf.train.GradientDescentOptimizer(learning_rate = 0.05).minimize(mean_loss)"
   ]
  },
  {
   "cell_type": "markdown",
   "metadata": {},
   "source": [
    "# Prepare for execution"
   ]
  },
  {
   "cell_type": "code",
   "execution_count": 8,
   "metadata": {},
   "outputs": [],
   "source": [
    "#tf.InteractiveSession() é uma classe do TF que é usada sempre que há requisição de executar algo\n",
    "sess = tf.InteractiveSession()"
   ]
  },
  {
   "cell_type": "markdown",
   "metadata": {},
   "source": [
    "### Initialization"
   ]
  },
  {
   "cell_type": "code",
   "execution_count": 9,
   "metadata": {},
   "outputs": [],
   "source": [
    "#tf.global_variables_initializer() : método que  inicia todos os objetos  marcados como variaveis (weights e biases)\n",
    "initializer = tf.global_variables_initializer()\n",
    "sess.run(initializer)"
   ]
  },
  {
   "cell_type": "markdown",
   "metadata": {},
   "source": [
    "### Loading Training Data"
   ]
  },
  {
   "cell_type": "code",
   "execution_count": 10,
   "metadata": {},
   "outputs": [],
   "source": [
    "#np.load(file name) carrega dados de um arquivo que se encontra no mesmo diretorio que o arquivo da rede\n",
    "#(caso contrario especificar o caminho)\n",
    "training_data = np.load('TF_intro.npz')"
   ]
  },
  {
   "cell_type": "markdown",
   "metadata": {},
   "source": [
    "### Learning"
   ]
  },
  {
   "cell_type": "code",
   "execution_count": 11,
   "metadata": {},
   "outputs": [
    {
     "name": "stdout",
     "output_type": "stream",
     "text": [
      "208.05229\n",
      "75.53224\n",
      "31.525528\n",
      "16.45118\n",
      "10.903839\n",
      "8.543402\n",
      "7.287453\n",
      "6.445347\n",
      "5.783572\n",
      "5.2199073\n",
      "4.722873\n",
      "4.2784157\n",
      "3.8787405\n",
      "3.518524\n",
      "3.193562\n",
      "2.9002855\n",
      "2.6355581\n",
      "2.3965793\n",
      "2.1808379\n",
      "1.9860686\n",
      "1.8102316\n",
      "1.651487\n",
      "1.5081719\n",
      "1.3787866\n",
      "1.2619776\n",
      "1.1565208\n",
      "1.0613152\n",
      "0.97536236\n",
      "0.897764\n",
      "0.8277084\n",
      "0.76446164\n",
      "0.7073623\n",
      "0.6558129\n",
      "0.6092737\n",
      "0.567258\n",
      "0.529326\n",
      "0.49508074\n",
      "0.4641642\n",
      "0.43625247\n",
      "0.41105378\n",
      "0.38830432\n",
      "0.36776575\n",
      "0.34922358\n",
      "0.33248362\n",
      "0.31737068\n",
      "0.30372694\n",
      "0.29140896\n",
      "0.28028828\n",
      "0.27024865\n",
      "0.26118487\n",
      "0.2530021\n",
      "0.2456145\n",
      "0.23894519\n",
      "0.23292397\n",
      "0.22748789\n",
      "0.2225802\n",
      "0.21814953\n",
      "0.21414955\n",
      "0.21053843\n",
      "0.20727815\n",
      "0.20433488\n",
      "0.20167759\n",
      "0.1992786\n",
      "0.19711271\n",
      "0.19515738\n",
      "0.19339207\n",
      "0.19179848\n",
      "0.19035968\n",
      "0.18906076\n",
      "0.18788803\n",
      "0.18682933\n",
      "0.18587352\n",
      "0.18501069\n",
      "0.18423164\n",
      "0.18352835\n",
      "0.18289329\n",
      "0.18232013\n",
      "0.18180262\n",
      "0.18133542\n",
      "0.18091357\n",
      "0.18053274\n",
      "0.18018897\n",
      "0.1798786\n",
      "0.17959839\n",
      "0.17934541\n",
      "0.17911701\n",
      "0.17891082\n",
      "0.1787247\n",
      "0.17855662\n",
      "0.17840494\n",
      "0.17826793\n",
      "0.17814423\n",
      "0.1780326\n",
      "0.17793183\n",
      "0.17784084\n",
      "0.17775868\n",
      "0.17768453\n",
      "0.17761755\n",
      "0.17755714\n",
      "0.17750253\n"
     ]
    }
   ],
   "source": [
    "#e de epoch: each iteration of the dataset\n",
    "#feed_dict = como o algoritmo será alimentado\n",
    "#feed_dict = {placeholder1:arquivoDados['labelCcolunaDesejada'], placeholder2:arquivoDados['labelColunaDesejada']}\n",
    "\n",
    "'''Ao usar sess.run() sempre há um retorno, mean_loss retorna exatamente o que queremos, no entanto optimize nao retorna nada\n",
    "usar o underline sem nada é um artifício de programação para ignorar o retorno daquela função/método '''\n",
    "\n",
    "for e in range(100):\n",
    "    _, curr_loss  =sess.run([optimize,mean_loss],\n",
    "                            feed_dict={inputs:training_data['inputs'],targets:training_data['targets']})\n",
    "    print(curr_loss)"
   ]
  },
  {
   "cell_type": "markdown",
   "metadata": {},
   "source": [
    "### Plot Data"
   ]
  },
  {
   "cell_type": "code",
   "execution_count": 12,
   "metadata": {
    "scrolled": true
   },
   "outputs": [
    {
     "data": {
      "image/png": "[encoded data removed]",
      "text/plain": [
       "<Figure size 432x288 with 1 Axes>"
      ]
     },
     "metadata": {
      "needs_background": "light"
     },
     "output_type": "display_data"
    }
   ],
   "source": [
    "out = sess.run([outputs],\n",
    "              feed_dict = {inputs: training_data['inputs']})\n",
    "plt.plot(np.squeeze(out),np.squeeze(training_data['targets']))\n",
    "plt.xlabel('outputs')\n",
    "plt.ylabel('targets')\n",
    "plt.show()"
   ]
  },
  {
   "cell_type": "code",
   "execution_count": null,
   "metadata": {},
   "outputs": [],
   "source": []
  }
 ],
 "metadata": {
  "kernelspec": {
   "display_name": "Python 3",
   "language": "python",
   "name": "python3"
  },
  "language_info": {
   "codemirror_mode": {
    "name": "ipython",
    "version": 3
   },
   "file_extension": ".py",
   "mimetype": "text/x-python",
   "name": "python",
   "nbconvert_exporter": "python",
   "pygments_lexer": "ipython3",
   "version": "3.7.4"
  }
 },
 "nbformat": 4,
 "nbformat_minor": 2
}
